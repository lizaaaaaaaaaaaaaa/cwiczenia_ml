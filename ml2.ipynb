{
 "cells": [
  {
   "cell_type": "code",
   "execution_count": 1,
   "id": "feb7c7ed",
   "metadata": {},
   "outputs": [],
   "source": [
    "import numpy as np\n",
    "import matplotlib.pyplot as plt"
   ]
  },
  {
   "cell_type": "markdown",
   "id": "09cdf182",
   "metadata": {},
   "source": [
    "ZADANIE 1"
   ]
  },
  {
   "cell_type": "code",
   "execution_count": 8,
   "id": "704cbacf",
   "metadata": {},
   "outputs": [],
   "source": [
    "# regulacja L1/L2 dla dwoch zmiennych\n",
    "# dla wielu zmiennych nie do konca wiem jak to zrobic, probowalam przez args/kwargs albo zddefiniowac array \n",
    "\n",
    "class LinearModel2v:\n",
    "    def __init__(self, eta = 0.001, diff = 0.001, w1 = 1, w2 = 1, w0 = 1, maxiter = 10000):\n",
    "        self.eta = eta\n",
    "        self.diff = diff\n",
    "        self.w1 = w1\n",
    "        self.w2 = w2\n",
    "        self.w0 = w0\n",
    "        self.maxiter = maxiter\n",
    "        \n",
    "    def loss_function(self, X, t):\n",
    "        N = len(X)\n",
    "        C = 0\n",
    "        for i in range(N):\n",
    "            C += (X[i][0]*self.w1+X[i][1]*self.w2+self.w0-t[i])**2\n",
    "        return C/(2*N)\n",
    "    \n",
    "    def regulation_L2(self, alfa, X, t):\n",
    "        lf = loss_function(X, t)\n",
    "        l2 = alfa*((self.w1)**2 + (self.w2)**2)\n",
    "        return lf + l2\n",
    "    \n",
    "    \n",
    "    def regulation_L1(self, alfa, X, t):\n",
    "        lf = loss_function(X, t)\n",
    "        l1 = alfa*abs(self.w1 + self.w2)\n",
    "        return lf + l1\n",
    "    \n",
    "    def update_weights(self, X, t):\n",
    "        N = len(X)\n",
    "        dC1 = 0\n",
    "        dC2 = 0\n",
    "        dC0 = 0\n",
    "        for i in range(N):\n",
    "            y_pred = X[i][0]*self.w1+X[i][1]*self.w2+self.w0\n",
    "            dC1 += 2*X[i][0]*(y_pred-t[i])\n",
    "            dC2 += 2*X[i][1]*(y_pred-t[i])\n",
    "            dC0 += 2*(y_pred-t[i])\n",
    "\n",
    "        self.w1 = self.w1 - self.eta*dC1/(2*N)\n",
    "        self.w2 = self.w2 - self.eta*dC2/(2*N)\n",
    "        self.w0 = self.w0 - self.eta*dC0/(2*N)\n",
    "\n",
    "    def train(self, X, t):\n",
    "        l = []\n",
    "        ile = 0\n",
    "        while True:\n",
    "            l.append(self.loss_function(X, t))\n",
    "            self.update_weights(X, t)\n",
    "            ile += 1\n",
    "            if len(l)>2:\n",
    "                if abs(l[-1]-l[-2])/l[-1] <  self.diff or ile > self.maxiter:\n",
    "                    break"
   ]
  },
  {
   "cell_type": "code",
   "execution_count": 41,
   "id": "8993a14d",
   "metadata": {},
   "outputs": [],
   "source": [
    "#ponizej wstawiam co mi sie udalo zrobic dla wielu zmiennych\n",
    "\n",
    "class LinearModel:\n",
    "    def __init__(self, eta = 0.001, diff = 0.001, w0 = 1, maxiter = 10000):\n",
    "        self.eta = eta\n",
    "        self.diff = diff\n",
    "        self.w0 = w0\n",
    "        self.maxiter = maxiter\n",
    "        \n",
    "    def loss_function(self, X, t):\n",
    "        N = len(X)\n",
    "        C = 0\n",
    "        W = [1]*N #lista z parametrami w\n",
    "        for i in range(N):\n",
    "            c = 0\n",
    "            for ii in range(len(X[i])):\n",
    "                c += X[ii]*W[i]    \n",
    "            C += (c + self.w0-t[i])**2\n",
    "        return C/(2*N)\n",
    "    \n",
    "    def regulation_L2(self, alfa, X, t):\n",
    "        lf = loss_function(X, t)\n",
    "        W = [1]* len(X)\n",
    "        c = 0\n",
    "        for w in W:\n",
    "            c += w**2\n",
    "        l2 = alfa*c\n",
    "        return lf + l2\n",
    "    \n",
    "    \n",
    "    def regulation_L1(self, alfa, X, t):\n",
    "        lf = loss_function(X, t)\n",
    "        W = [1]* len(X)\n",
    "        l1 = alfa*abs(sum(W))\n",
    "        return lf + l1\n",
    "    \n",
    "    '''def update_weights(self, X, t):\n",
    "        N = len(X)\n",
    "        dC1 = 0\n",
    "        dC2 = 0\n",
    "        dC0 = 0\n",
    "        for i in range(N):\n",
    "            y_pred = X[i][0]*self.w1+X[i][1]*self.w2+self.w0\n",
    "            dC1 += 2*X[i][0]*(y_pred-t[i])\n",
    "            dC2 += 2*X[i][1]*(y_pred-t[i])\n",
    "            dC0 += 2*(y_pred-t[i])\n",
    "\n",
    "        self.w1 = self.w1 - self.eta*dC1/(2*N)\n",
    "        self.w2 = self.w2 - self.eta*dC2/(2*N)\n",
    "        self.w0 = self.w0 - self.eta*dC0/(2*N)\n",
    "\n",
    "    def train(self, X, t):\n",
    "        l = []\n",
    "        ile = 0\n",
    "        while True:\n",
    "            l.append(self.loss_function(X, t))\n",
    "            self.update_weights(X, t)\n",
    "            ile += 1\n",
    "            if len(l)>2:\n",
    "                if abs(l[-1]-l[-2])/l[-1] <  self.diff or ile > self.maxiter:\n",
    "                    break'''"
   ]
  },
  {
   "cell_type": "markdown",
   "id": "200041d9",
   "metadata": {},
   "source": [
    "ZADANIE 2"
   ]
  },
  {
   "cell_type": "code",
   "execution_count": 42,
   "id": "360273c4",
   "metadata": {},
   "outputs": [],
   "source": [
    "from sklearn import datasets"
   ]
  },
  {
   "cell_type": "code",
   "execution_count": 43,
   "id": "b77cf8d5",
   "metadata": {},
   "outputs": [],
   "source": [
    "X, y = datasets.make_classification(\n",
    "    n_samples=30,\n",
    "    n_features=2,\n",
    "    n_repeated=0,\n",
    "    n_redundant=0,\n",
    "    flip_y=.05,\n",
    "    random_state=300,\n",
    "    n_clusters_per_class=1\n",
    ")\n",
    "\n"
   ]
  },
  {
   "cell_type": "code",
   "execution_count": 45,
   "id": "5689e359",
   "metadata": {},
   "outputs": [],
   "source": [
    "model = LinearModel2v()\n",
    "model.train(X, y)"
   ]
  },
  {
   "cell_type": "code",
   "execution_count": 48,
   "id": "79b307d0",
   "metadata": {},
   "outputs": [
    {
     "ename": "SyntaxError",
     "evalue": "positional argument follows keyword argument (<ipython-input-48-4986bbe212ff>, line 1)",
     "output_type": "error",
     "traceback": [
      "\u001b[0;36m  File \u001b[0;32m\"<ipython-input-48-4986bbe212ff>\"\u001b[0;36m, line \u001b[0;32m1\u001b[0m\n\u001b[0;31m    model.regulation_L1(alfa = 0.001, X, y)\u001b[0m\n\u001b[0m                                     ^\u001b[0m\n\u001b[0;31mSyntaxError\u001b[0m\u001b[0;31m:\u001b[0m positional argument follows keyword argument\n"
     ]
    }
   ],
   "source": [
    "model.regulation_L1(alfa = 0.001, X, y)"
   ]
  },
  {
   "cell_type": "code",
   "execution_count": null,
   "id": "8e6b9098",
   "metadata": {},
   "outputs": [],
   "source": []
  },
  {
   "cell_type": "code",
   "execution_count": null,
   "id": "04838d11",
   "metadata": {},
   "outputs": [],
   "source": []
  }
 ],
 "metadata": {
  "kernelspec": {
   "display_name": "Python 3",
   "language": "python",
   "name": "python3"
  },
  "language_info": {
   "codemirror_mode": {
    "name": "ipython",
    "version": 3
   },
   "file_extension": ".py",
   "mimetype": "text/x-python",
   "name": "python",
   "nbconvert_exporter": "python",
   "pygments_lexer": "ipython3",
   "version": "3.7.12"
  }
 },
 "nbformat": 4,
 "nbformat_minor": 5
}
