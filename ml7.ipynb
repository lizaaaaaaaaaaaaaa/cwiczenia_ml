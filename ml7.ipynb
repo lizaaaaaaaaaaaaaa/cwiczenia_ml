{
 "cells": [
  {
   "cell_type": "markdown",
   "id": "27bef280",
   "metadata": {},
   "source": [
    "### Zadanie1: Zastanów się dlaczego funkcja kosztu MSE może nie być najlepszym pomysłem dla tego problemu?"
   ]
  },
  {
   "cell_type": "markdown",
   "id": "e156839e",
   "metadata": {},
   "source": [
    "Żeby obliczyć MSE (ang. Mean Squarred Error) należy od obserwowanej wartości odjąć wartość przewidywaną i podnieść różnicę do kwadratu, następnie zsumować te wartości dla wszytkich obserwacji i podzielić na ich liczbę. Przy MSE model jakby się skupia na konkretnych pikselach i odtwarzaniu tych konkretnych zdjęć(np. zdjęć kokretnych myszek) co mamy, zamiast się skupić na wykrywaniu tego co mamy na obrazach i nauczyc sie robic kolejne dowolne podobne (dowolne myszki, nie takie jak na podanych obrazkach). Np. przy MSE, wygenerowane zdjęcie z myszką raczej nie będzie rozpoznawalne, bo będzie średnią pikseli wielu myszek. \n",
    "Podobno GAN stosuje wytrenowany dyskryminator jako funkcję kosztu."
   ]
  },
  {
   "cell_type": "markdown",
   "id": "8a35db2b",
   "metadata": {},
   "source": [
    "### Zadanie2: Jaka jest różnica między funkcją ReLU i LeakyReLU. Jakie to ma konsekwencje?"
   ]
  },
  {
   "cell_type": "markdown",
   "id": "0fff2aad",
   "metadata": {},
   "source": [
    "Funkcja aktywacji ReLU, czyli Rectified Linear Unit, wyprowadza tę samą wartość dla wartości dodatniej i zeruje wartości ujemne. ReLU nie charakteryzuje się problemem zanikającego gradientu i nie ma wartości maksymalnej, jest efektywna obliczeniowo. LeakyReLU jest modyfikacją ReLU: wprowadza się mała (𝛼 = 0.01) wartość aktywacji dla z < 0. LeakyReLU powoduje wyciek bliskich zeru dodatnich wartości do 0 i lepiej sprawdza się przy zmianach epok treningowych."
   ]
  },
  {
   "cell_type": "markdown",
   "id": "8a4cd68c",
   "metadata": {},
   "source": [
    "https://www.is.umk.pl/~grochu/wiki/lib/exe/fetch.php?media=zajecia:nn_2018_1:01-dnn.pdf"
   ]
  },
  {
   "cell_type": "markdown",
   "id": "66d19f79",
   "metadata": {},
   "source": [
    "### Zadanie3: Jak zachowuje się funkcja kosztu w kolejnych epokach? Z czego to może wynikać? Czy to ułatwia czy utrudnia dostosowyanie hiperparametrów?"
   ]
  },
  {
   "cell_type": "markdown",
   "id": "e7584ab5",
   "metadata": {},
   "source": [
    "Funkcja kosztu dyskryminatora zwiększa się i maleje naprzemian (d_loss), jest niemonotoniczna. W kolejnych epokach zmiany są coraz mniejsze w porównaniu do wielkości zmian początkowych. Raczej takie nieprzywidywalne zachowanie utrudnia dostosowywanied hiperparametrów. "
   ]
  },
  {
   "cell_type": "markdown",
   "id": "b81fed6a",
   "metadata": {},
   "source": [
    "### Zadanie4: Generator może realizować swój cel ucząć się bardzo dobrze generować tylko pewien podzbiór danych (np jedną cyfrę). Zjawisko to nosi nazwę mode collapse. Poszukaj jak można rozwiązać ten problem."
   ]
  },
  {
   "cell_type": "markdown",
   "id": "230a6123",
   "metadata": {},
   "source": [
    "Rozwiązać ten problem można za pomocą takich metod jak, np. Packing, Wassertein loss, Unrolled GAN i td. Packing charakteryzuje się modyfikacją dyskryminatora, oby można było podejmować decyzji na podstawie próbek z tej samej klasy(rzeczywistych lub sztucznych). Wassertein loss umożliwia trenowanie dyskryminatora do optymalności bez ryzyka zanikającego gradientu. Unrolled GAN polega na rozwinęciu sieci GAN (używa się funkcje kosztu generatora, która ma dane klasyfikacji biedżącego dyskryminatora i też dane wedjściowe jego przyszlych wersji)"
   ]
  },
  {
   "cell_type": "markdown",
   "id": "1d851dce",
   "metadata": {},
   "source": [
    "https://medium.com/intel-student-ambassadors/reducing-mode-collapse-in-gans-using-guided-latent-spaces-36f52a08a668"
   ]
  }
 ],
 "metadata": {
  "kernelspec": {
   "display_name": "Python 3",
   "language": "python",
   "name": "python3"
  },
  "language_info": {
   "codemirror_mode": {
    "name": "ipython",
    "version": 3
   },
   "file_extension": ".py",
   "mimetype": "text/x-python",
   "name": "python",
   "nbconvert_exporter": "python",
   "pygments_lexer": "ipython3",
   "version": "3.7.12"
  }
 },
 "nbformat": 4,
 "nbformat_minor": 5
}
