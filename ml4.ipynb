{
 "cells": [
  {
   "cell_type": "markdown",
   "id": "29efeaa6",
   "metadata": {},
   "source": [
    "### Zadanie1: Jaką minimalną i maksymalną wartość może przyjmować współczynnik Giniego? Uzasadnij. Co to wtedy oznacza?"
   ]
  },
  {
   "cell_type": "markdown",
   "id": "94d5cc14",
   "metadata": {},
   "source": [
    "Minimalna wartość współczynnika Giniego wynosi 0, maksymalna wynosi 1. Drugi człon wzoru to suma kwadratów odsetków danych tej samej kategorii, największa wartość tej sumy może być 1, najmniejsza 0, z czego wynikają minimalna(1-1=0) i maksymalna(1-0=1) wartości współczynnika. Współczynnik Giniego mierzy jak dobrze rozdzielone dane -> chcemy jak najbardziej zminimalizować jego wartość, najlepiej żeby współczynnik był 0. "
   ]
  },
  {
   "cell_type": "markdown",
   "id": "8d5c3012",
   "metadata": {},
   "source": [
    "### Zadanie2: Uzasadnij wartość entropii w wierzchołku (u samej góry) poprzez bezpośrednie obliczenia."
   ]
  },
  {
   "cell_type": "code",
   "execution_count": 154,
   "id": "286533a1",
   "metadata": {},
   "outputs": [
    {
     "name": "stdout",
     "output_type": "stream",
     "text": [
      "Entropia wynosi 1.58\n"
     ]
    }
   ],
   "source": [
    "from math import log2\n",
    "\n",
    "samples = 105\n",
    "\n",
    "value_1 = 34/samples\n",
    "value_2 = 32/samples\n",
    "value_3 = 39/samples\n",
    "\n",
    "entropia = -(value_1*log2(value_1) + value_2*log2(value_2) + value_3*log2(value_3))\n",
    "\n",
    "print(\"Entropia wynosi\", round(entropia,2))"
   ]
  },
  {
   "cell_type": "markdown",
   "id": "c087f689",
   "metadata": {},
   "source": [
    "### Zadanie3: Uzasadnij wartość indeksu Giniego w wierzchołku (u samej góry) poprzez bezpośrednie obliczenia."
   ]
  },
  {
   "cell_type": "code",
   "execution_count": 155,
   "id": "798ac38c",
   "metadata": {},
   "outputs": [
    {
     "name": "stdout",
     "output_type": "stream",
     "text": [
      "Współczynnik Giniego wynosi 0.664\n"
     ]
    }
   ],
   "source": [
    "gini = 1 - value_1**2 - value_2**2 - value_3**2\n",
    "\n",
    "print(\"Współczynnik Giniego wynosi\", round(gini,3))"
   ]
  },
  {
   "cell_type": "markdown",
   "id": "85f1f272",
   "metadata": {},
   "source": [
    "### Zadanie4: Przeczytaj https://predictivesolutions.pl/jak-udoskonalic-algorytm-drzew-decyzyjnych. Sporządź odpowiednią notatkę."
   ]
  },
  {
   "cell_type": "markdown",
   "id": "82db4008",
   "metadata": {},
   "source": [
    "Drzewa decyzyjne stosuje się do podzielenia dużej liczby obserwacji na mniejsze zbiory z zastosowaniem reguł \"jeżeli.. to..\". Wadą tego algorytmu jest wrażliwość na specyfikę zbiorów danych, czyli niestabilność wynikow. \n",
    "\n",
    "Metody ulepszające metodę drzew decyzyjnych:\n",
    "\n",
    "1) Agregacja Bootstrapowa (bagging) polega na wytworzeniu podzbiorów uczących z pierwotnego zbioru danych poprzez losowanie ze zwracaniem. Część danych nie zostaje wybrana do próby uczacej i pełni rolę zbioru walidacyjnego (Out of Bag). Następnie, na kazdej z prób buduje się model drzewa, ostateczny wynik predykcji jest wybierany na podstawie głosowania. Wadami są używanie tych samych predyktorów, a także to że uzyskanie ostatecznego wyniku jest czasochłonne i skomplikowane. \n",
    "\n",
    "2) Zasada działania algorytmu Lasów losowych (Random forest) jest podobna do baggingu(losowanie danych ze zwracaniem, tworzenie zbioru walidacyjnego, wynik wybierany przez głosowanie), tylko do tworzenia poszczególnych drzew jest używana część predyktorów, a nie wszystkie dostępne. Także do każdego podzbioru na podstawie losowania wybiera się odpowiednie zmienne objaśniające. Wadami są czasochłonne obliczenia oraz trudniejsza interpretacja wyników. \n",
    "\n",
    "3) AdaBoost (Adaptative Boosting), czyli wzmocnienie adaptacyjne, polega na łączeniu klasyfikatorów(pojedynczych modeli w zespoły). Ideą jest zbudowanie złożonego modelu(zespołu) o dużej sile predykcyjnej, który składa się ze \"słabych\" klasyfikatorów. AdaBoost działa w sposób sekwencyjny, w odróżnieniu od lasów lasowych. Każde kolejne drzewo stara się wyeliminować błędy poprzedniego. Wadą jest łatwość do przetrenowania. \n",
    "\n",
    "4) XGBoost (Extreme Gradient Boosting), czyli algorytm wzmacniania gradientowego, ma podobne działanie jak poprzedni. Inowacją jest wprowadzenie składnika regularyzacji, przez którą jest regulowana złożoność modelu i zapobiega przetrenowaniu.  "
   ]
  },
  {
   "cell_type": "markdown",
   "id": "a36538c5",
   "metadata": {},
   "source": [
    "### Zadanie5: Modele lasu drzew decyzyjnych często wykorzystują metodę modyfikowania danych treningowych - agregację bootstrapową (bootstraping). Polega ona na wielokrotnym losowaniu ze zwracaniem. Jeżeli takie losowanie powtórzymy n razy, otrzymamy n elementowy zbiór danych treningowych, w którym część przypadków będzie się powtarzać. Pokaż, że dla dużych n próba będzie zawierała średnio 63% przypadków z orginalnego zbioru."
   ]
  },
  {
   "cell_type": "code",
   "execution_count": 156,
   "id": "9faa6f12",
   "metadata": {},
   "outputs": [
    {
     "name": "stdout",
     "output_type": "stream",
     "text": [
      "Dla n = 5696 próba zawiera średnio 63.0 % przypadków z originalnego zbioru.\n"
     ]
    }
   ],
   "source": [
    "import numpy as np\n",
    "import random\n",
    "\n",
    "\n",
    "data_original = np.arange(1,101).tolist() #generuje pierwotny zbior danych \n",
    "\n",
    "data_new = []\n",
    "for i in range(10000):\n",
    "    \n",
    "    #generuje zbiory ze zbioru pierwotnego za pomocą losowania ze zwracaniem \n",
    "    data_new.append(random.choices(data_original, k = 100))\n",
    "    \n",
    "\n",
    "suma = 0    \n",
    "for data in data_new:\n",
    "    \n",
    "    #na ile się pokrywa zbior wygenerowany a pierwotny\n",
    "    suma += len(set(data))/len(data_original)\n",
    "    \n",
    "#sredni % przypaków z originalnego zbioru\n",
    "mean = suma/len(data_new)*100\n",
    "\n",
    "print(\"Dla n =\", n, \"próba zawiera średnio\", round(mean,0), \"% przypadków z originalnego zbioru.\")\n"
   ]
  },
  {
   "cell_type": "markdown",
   "id": "9da0690e",
   "metadata": {},
   "source": [
    "### Zadanie6: Rozważ dane zawierające nagłówki, przy czym są to fake newsy (1298) oraz prawdziwe tytuły (1968). Jeden nagłówek to jeden rekord.\n",
    "\n",
    "### Wyznacz częstości występowania wszystkich słów ze wszystkich nagłówków.\n",
    "\n",
    "### Jakie słowa (oprócz stopwordsów) najczęściej pojawiały się w realnych a jakie w fałszywych nagłówkach?\n",
    "\n",
    "### Będziemy tworzyć klasyfiaktor dla tych danych w oparciu o regresję logistyczną oraz drzewa losowe/lasy losowe. Każdy nagłówek będzie reprezentowany w postaci wektora zer i jedynek w zależności od występowania danego słowa (długość wektora = liczba wszystkich unikatowych słów, może warto jednak zawęzić? albo potraktować jako hiperparametr). Podziel dane na 3 grupy: 70% zbiór treningowy, 15% zbiór walidacyjny, 15% zbiór testowy. Przetestuj różne zestawy hiperparametrów na zbiorze walidacyjnym. Skomentuj otrzymane wyniki."
   ]
  },
  {
   "cell_type": "code",
   "execution_count": 157,
   "id": "a00fdd07",
   "metadata": {},
   "outputs": [],
   "source": [
    "with open('fake.txt') as f:\n",
    "    records_fake = f.readlines()"
   ]
  },
  {
   "cell_type": "code",
   "execution_count": 158,
   "id": "949f4bdf",
   "metadata": {},
   "outputs": [],
   "source": [
    "with open('real.txt') as f:\n",
    "    records_real = f.readlines()"
   ]
  },
  {
   "cell_type": "code",
   "execution_count": 159,
   "id": "e686b754",
   "metadata": {},
   "outputs": [],
   "source": [
    "#usuwam znaczek /n\n",
    "\n",
    "records_fake = [string.rstrip() for string in records_fake] \n",
    "records_real = [string.rstrip() for string in records_real] "
   ]
  },
  {
   "cell_type": "code",
   "execution_count": 160,
   "id": "7242a4ed",
   "metadata": {},
   "outputs": [],
   "source": [
    "#wszytkie słowa z małej litery\n",
    "\n",
    "records_fake = [string.lower() for string in records_fake] \n",
    "records_real = [string.lower() for string in records_real] "
   ]
  },
  {
   "cell_type": "code",
   "execution_count": 161,
   "id": "43f3710b",
   "metadata": {},
   "outputs": [],
   "source": [
    "#biblioteki potrzebne do czyszczenia słów\n",
    "\n",
    "from nltk.corpus import stopwords \n",
    "import string\n",
    "\n",
    "stop_words = set(stopwords.words(\"english\")) #angielskie stopwords"
   ]
  },
  {
   "cell_type": "code",
   "execution_count": 162,
   "id": "6251e385",
   "metadata": {},
   "outputs": [],
   "source": [
    "from nltk.tokenize import word_tokenize\n",
    "\n",
    "#tokenizacja na słowa, oczyszczenie od stopwordsów, znaków interpunkcyjnuch i liczb\n",
    "\n",
    "words_fake = [] \n",
    "words_real = []\n",
    "all_words = [] #tu wszytkie słowa \n",
    "\n",
    "for record in records_fake:\n",
    "    r = [elem for elem in word_tokenize(record) if elem not in stop_words and elem not in string.punctuation and elem not in string.digits]\n",
    "    words_fake.extend(r)\n",
    "    all_words.extend(r)\n",
    "\n",
    "for record in records_real:\n",
    "    r = [elem for elem in word_tokenize(record) if elem not in stop_words and elem not in string.punctuation and elem not in string.digits]\n",
    "    words_real.extend(r)\n",
    "    all_words.extend(r)"
   ]
  },
  {
   "cell_type": "code",
   "execution_count": 163,
   "id": "a66d382e",
   "metadata": {},
   "outputs": [
    {
     "data": {
      "text/plain": [
       "24425"
      ]
     },
     "execution_count": 163,
     "metadata": {},
     "output_type": "execute_result"
    }
   ],
   "source": [
    "len(all_words) #ile wszystkich słów"
   ]
  },
  {
   "cell_type": "code",
   "execution_count": 164,
   "id": "0e924c83",
   "metadata": {},
   "outputs": [],
   "source": [
    "n = len(set(all_words)) #ile słów unikatowych #dlugosc wektora"
   ]
  },
  {
   "cell_type": "code",
   "execution_count": 165,
   "id": "3ace9d33",
   "metadata": {},
   "outputs": [],
   "source": [
    "import nltk\n",
    "\n",
    "all_words = nltk.FreqDist(all_words) #liczę częstości słów\n",
    "words_fake = nltk.FreqDist(words_fake) \n",
    "words_real = nltk.FreqDist(words_real) "
   ]
  },
  {
   "cell_type": "code",
   "execution_count": 166,
   "id": "21145e6c",
   "metadata": {},
   "outputs": [],
   "source": [
    "#wedktor ze slow unikatowych\n",
    "unic_words = []\n",
    "for word in all_words.most_common(n):\n",
    "    unic_words.append(word[0])"
   ]
  },
  {
   "cell_type": "code",
   "execution_count": 167,
   "id": "e8e57489",
   "metadata": {},
   "outputs": [
    {
     "data": {
      "image/png": "[encoded data removed]",
      "text/plain": [
       "<Figure size 432x288 with 1 Axes>"
      ]
     },
     "metadata": {
      "needs_background": "light"
     },
     "output_type": "display_data"
    },
    {
     "data": {
      "text/plain": [
       "<AxesSubplot:title={'center':'Rozkład występowania 20 najpopularniejszych słów'}, xlabel='Samples', ylabel='Counts'>"
      ]
     },
     "execution_count": 167,
     "metadata": {},
     "output_type": "execute_result"
    }
   ],
   "source": [
    "all_words.plot(20, title = 'Rozkład występowania 20 najpopularniejszych słów')"
   ]
  },
  {
   "cell_type": "code",
   "execution_count": 168,
   "id": "c0198878",
   "metadata": {},
   "outputs": [
    {
     "data": {
      "image/png": "[encoded data removed]",
      "text/plain": [
       "<Figure size 432x288 with 1 Axes>"
      ]
     },
     "metadata": {
      "needs_background": "light"
     },
     "output_type": "display_data"
    },
    {
     "data": {
      "text/plain": [
       "<AxesSubplot:title={'center':'Rozkład występowania 20 najpopularniejszych słów w fake nagłówkach'}, xlabel='Samples', ylabel='Counts'>"
      ]
     },
     "execution_count": 168,
     "metadata": {},
     "output_type": "execute_result"
    }
   ],
   "source": [
    "words_fake.plot(20, title = 'Rozkład występowania 20 najpopularniejszych słów w fake nagłówkach')"
   ]
  },
  {
   "cell_type": "code",
   "execution_count": 169,
   "id": "59188a83",
   "metadata": {},
   "outputs": [
    {
     "data": {
      "image/png": "[encoded data removed]",
      "text/plain": [
       "<Figure size 432x288 with 1 Axes>"
      ]
     },
     "metadata": {
      "needs_background": "light"
     },
     "output_type": "display_data"
    },
    {
     "data": {
      "text/plain": [
       "<AxesSubplot:title={'center':'Rozkład występowania 20 najpopularniejszych słów w real nagłówkach'}, xlabel='Samples', ylabel='Counts'>"
      ]
     },
     "execution_count": 169,
     "metadata": {},
     "output_type": "execute_result"
    }
   ],
   "source": [
    "words_real.plot(20, title = 'Rozkład występowania 20 najpopularniejszych słów w real nagłówkach')"
   ]
  },
  {
   "cell_type": "code",
   "execution_count": 170,
   "id": "c0cb3462",
   "metadata": {},
   "outputs": [],
   "source": [
    "from sklearn.linear_model import LogisticRegression\n",
    "from sklearn.ensemble import RandomForestClassifier"
   ]
  }
 ],
 "metadata": {
  "kernelspec": {
   "display_name": "Python 3",
   "language": "python",
   "name": "python3"
  },
  "language_info": {
   "codemirror_mode": {
    "name": "ipython",
    "version": 3
   },
   "file_extension": ".py",
   "mimetype": "text/x-python",
   "name": "python",
   "nbconvert_exporter": "python",
   "pygments_lexer": "ipython3",
   "version": "3.7.12"
  }
 },
 "nbformat": 4,
 "nbformat_minor": 5
}
